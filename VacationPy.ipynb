{
 "cells": [
  {
   "cell_type": "markdown",
   "metadata": {},
   "source": [
    "# VacationPy\n",
    "----\n",
    "\n",
    "#### Note\n",
    "* Instructions have been included for each segment. You do not have to follow them exactly, but they are included to help you think through the steps."
   ]
  },
  {
   "cell_type": "code",
   "execution_count": 2,
   "metadata": {},
   "outputs": [],
   "source": [
    "# Dependencies and Setup\n",
    "import matplotlib.pyplot as plt\n",
    "import pandas as pd\n",
    "import numpy as np\n",
    "import requests\n",
    "import gmaps\n",
    "import os\n",
    "\n",
    "# Import API key\n",
    "from api_keys import g_key"
   ]
  },
  {
   "cell_type": "markdown",
   "metadata": {},
   "source": [
    "### Store Part I results into DataFrame\n",
    "* Load the csv exported in Part I to a DataFrame"
   ]
  },
  {
   "cell_type": "code",
   "execution_count": 3,
   "metadata": {},
   "outputs": [
    {
     "output_type": "execute_result",
     "data": {
      "text/plain": "                     City  Latitude  Longitude  Max Temp  Humidity  \\\n0               jamestown     42.10     -79.24     57.20      82.0   \n1                souillac    -20.52      57.52     69.80      73.0   \n2                udachnyy     66.42     112.40     51.80      40.0   \n3    vila franca do campo     37.72     -25.43     64.40      72.0   \n4         bambous virieux    -20.34      57.76     73.99      73.0   \n..                    ...       ...        ...       ...       ...   \n547                  abha     18.22      42.51     64.40      27.0   \n548             tecolutla     20.48     -97.02     77.65      76.0   \n549           southbridge     42.08     -72.03     60.01      82.0   \n550              lorengau     -2.02     147.27     86.00      58.0   \n551              jinxiang     22.86     115.70     82.00      82.0   \n\n     Cloudiness  Wind Speed  \n0           1.0        6.93  \n1          20.0        6.93  \n2           0.0        6.71  \n3          40.0       13.87  \n4          20.0        6.93  \n..          ...         ...  \n547        71.0        7.52  \n548        85.0        4.63  \n549         0.0        5.03  \n550        45.0        6.67  \n551        65.0        0.34  \n\n[552 rows x 7 columns]",
      "text/html": "<div>\n<style scoped>\n    .dataframe tbody tr th:only-of-type {\n        vertical-align: middle;\n    }\n\n    .dataframe tbody tr th {\n        vertical-align: top;\n    }\n\n    .dataframe thead th {\n        text-align: right;\n    }\n</style>\n<table border=\"1\" class=\"dataframe\">\n  <thead>\n    <tr style=\"text-align: right;\">\n      <th></th>\n      <th>City</th>\n      <th>Latitude</th>\n      <th>Longitude</th>\n      <th>Max Temp</th>\n      <th>Humidity</th>\n      <th>Cloudiness</th>\n      <th>Wind Speed</th>\n    </tr>\n  </thead>\n  <tbody>\n    <tr>\n      <th>0</th>\n      <td>jamestown</td>\n      <td>42.10</td>\n      <td>-79.24</td>\n      <td>57.20</td>\n      <td>82.0</td>\n      <td>1.0</td>\n      <td>6.93</td>\n    </tr>\n    <tr>\n      <th>1</th>\n      <td>souillac</td>\n      <td>-20.52</td>\n      <td>57.52</td>\n      <td>69.80</td>\n      <td>73.0</td>\n      <td>20.0</td>\n      <td>6.93</td>\n    </tr>\n    <tr>\n      <th>2</th>\n      <td>udachnyy</td>\n      <td>66.42</td>\n      <td>112.40</td>\n      <td>51.80</td>\n      <td>40.0</td>\n      <td>0.0</td>\n      <td>6.71</td>\n    </tr>\n    <tr>\n      <th>3</th>\n      <td>vila franca do campo</td>\n      <td>37.72</td>\n      <td>-25.43</td>\n      <td>64.40</td>\n      <td>72.0</td>\n      <td>40.0</td>\n      <td>13.87</td>\n    </tr>\n    <tr>\n      <th>4</th>\n      <td>bambous virieux</td>\n      <td>-20.34</td>\n      <td>57.76</td>\n      <td>73.99</td>\n      <td>73.0</td>\n      <td>20.0</td>\n      <td>6.93</td>\n    </tr>\n    <tr>\n      <th>...</th>\n      <td>...</td>\n      <td>...</td>\n      <td>...</td>\n      <td>...</td>\n      <td>...</td>\n      <td>...</td>\n      <td>...</td>\n    </tr>\n    <tr>\n      <th>547</th>\n      <td>abha</td>\n      <td>18.22</td>\n      <td>42.51</td>\n      <td>64.40</td>\n      <td>27.0</td>\n      <td>71.0</td>\n      <td>7.52</td>\n    </tr>\n    <tr>\n      <th>548</th>\n      <td>tecolutla</td>\n      <td>20.48</td>\n      <td>-97.02</td>\n      <td>77.65</td>\n      <td>76.0</td>\n      <td>85.0</td>\n      <td>4.63</td>\n    </tr>\n    <tr>\n      <th>549</th>\n      <td>southbridge</td>\n      <td>42.08</td>\n      <td>-72.03</td>\n      <td>60.01</td>\n      <td>82.0</td>\n      <td>0.0</td>\n      <td>5.03</td>\n    </tr>\n    <tr>\n      <th>550</th>\n      <td>lorengau</td>\n      <td>-2.02</td>\n      <td>147.27</td>\n      <td>86.00</td>\n      <td>58.0</td>\n      <td>45.0</td>\n      <td>6.67</td>\n    </tr>\n    <tr>\n      <th>551</th>\n      <td>jinxiang</td>\n      <td>22.86</td>\n      <td>115.70</td>\n      <td>82.00</td>\n      <td>82.0</td>\n      <td>65.0</td>\n      <td>0.34</td>\n    </tr>\n  </tbody>\n</table>\n<p>552 rows × 7 columns</p>\n</div>"
     },
     "metadata": {},
     "execution_count": 3
    }
   ],
   "source": [
    "vacation_df = pd.read_csv(\"city_data.csv\", index_col=False)\n",
    "vacation_df.reset_index(drop=True, inplace=True)\n",
    "vacation_df\n"
   ]
  },
  {
   "cell_type": "code",
   "execution_count": 4,
   "metadata": {},
   "outputs": [],
   "source": [
    "# Store latitude and longitude in locations\n",
    "locations = vacation_df[[\"Latitude\", \"Longitude\"]]\n",
    "humidity = vacation_df[\"Humidity\"].astype(float)"
   ]
  },
  {
   "cell_type": "markdown",
   "metadata": {},
   "source": [
    "### Humidity Heatmap\n",
    "* Configure gmaps.\n",
    "* Use the Lat and Lng as locations and Humidity as the weight.\n",
    "* Add Heatmap layer to map."
   ]
  },
  {
   "cell_type": "code",
   "execution_count": 5,
   "metadata": {
    "tags": []
   },
   "outputs": [
    {
     "output_type": "stream",
     "name": "stdout",
     "text": "552\n552\n"
    }
   ],
   "source": [
    "# Configure gmaps with API key\n",
    "gmaps.configure(api_key=g_key)\n",
    "\n",
    "# Store 'Lat' and 'Lng' into  locations \n",
    "locations = vacation_df[['Latitude', 'Longitude']].astype(float)\n",
    "\n",
    "# Convert Humidity to float and store\n",
    "humidity = vacation_df['Humidity'].astype(float)\n",
    "print(len(locations))\n",
    "print(len(humidity))"
   ]
  },
  {
   "cell_type": "code",
   "execution_count": 6,
   "metadata": {},
   "outputs": [
    {
     "output_type": "display_data",
     "data": {
      "text/plain": "Figure(layout=FigureLayout(border='1px solid black', height='500px', margin='0 auto 0 auto', padding='1px', wi…",
      "application/vnd.jupyter.widget-view+json": {
       "version_major": 2,
       "version_minor": 0,
       "model_id": "314ec01ce6164b5dbd9965d7615f5b5a"
      }
     },
     "metadata": {}
    }
   ],
   "source": [
    "# Plot Heatmap\n",
    "fig = gmaps.figure()\n",
    "\n",
    "# customize the size of the figure\n",
    "fig_layout = {\n",
    "    'width': '700px',\n",
    "    'height': '500px',\n",
    "    'border': '1px solid black',\n",
    "    'padding': '1px',\n",
    "    'margin': '0 auto 0 auto'\n",
    "}\n",
    "fig = gmaps.figure(layout=fig_layout)\n",
    "\n",
    "# heat layer\n",
    "heat_layer = gmaps.heatmap_layer(locations, weights=humidity, \n",
    "                                 dissipating=False, max_intensity=100,\n",
    "                                 point_radius=3)\n",
    "\n",
    "\n",
    "# add layer\n",
    "fig.add_layer(heat_layer)\n",
    "\n",
    "# display figure\n",
    "fig"
   ]
  },
  {
   "cell_type": "markdown",
   "metadata": {},
   "source": [
    "### Create new DataFrame fitting weather criteria\n",
    "* Narrow down the cities to fit weather conditions.\n",
    "* Drop any rows will null values."
   ]
  },
  {
   "cell_type": "code",
   "execution_count": 8,
   "metadata": {},
   "outputs": [
    {
     "output_type": "execute_result",
     "data": {
      "text/plain": "                         City  Latitude  Longitude  Max Temp  Humidity  \\\n9    rio verde de mato grosso    -18.92     -54.84     79.95      43.0   \n29                     yulara    -25.24     130.99     78.80      14.0   \n42              alice springs    -23.70     133.88     77.00      15.0   \n56                     sinjar     36.32      41.88     75.06      42.0   \n96             saint-philippe    -21.36      55.77     73.40      43.0   \n126       santiago del estero    -27.80     -64.26     72.00      43.0   \n146                     airai     -8.93     125.41     80.11      43.0   \n160              saint-joseph    -21.37      55.62     73.40      43.0   \n171              saint george     37.10    -113.58     82.40      17.0   \n196                    shache     38.42      77.24     77.05      17.0   \n218                      jalu     29.03      21.55     73.29      44.0   \n271                 mount isa    -20.73     139.50     84.20      14.0   \n277                   mandali     33.75      45.55     84.42      21.0   \n345                  tessalit     20.20       1.01     84.65      18.0   \n362                   awjilah     29.11      21.29     72.45      46.0   \n370                   yeppoon    -23.13     150.73     84.20      39.0   \n372                     bilma     18.69      12.92     84.81      18.0   \n397                    fallon     39.47    -118.78     71.60      19.0   \n406                nelson bay    -32.72     152.15     71.01      30.0   \n441                     aswan     24.09      32.91     82.18      38.0   \n446                   sakakah     29.97      40.21     75.20      25.0   \n460                    tiznit     29.58      -9.50     78.39      32.0   \n537                      aksu     41.12      80.26     70.27      24.0   \n\n     Cloudiness  Wind Speed  \n9          33.0       12.66  \n29          0.0        6.93  \n42          0.0        9.17  \n56          0.0        2.93  \n96         43.0        9.17  \n126         9.0        7.67  \n146         0.0        6.64  \n160        45.0        9.17  \n171         1.0        3.36  \n196         0.0        1.86  \n218         0.0        7.02  \n271        23.0        8.05  \n277         0.0        6.67  \n345         0.0        3.47  \n362         0.0        5.37  \n370        40.0        5.82  \n372        12.0       13.80  \n397        20.0        5.82  \n406         0.0       20.80  \n441         0.0       13.04  \n446         0.0        5.82  \n460         0.0        2.30  \n537         0.0        3.06  ",
      "text/html": "<div>\n<style scoped>\n    .dataframe tbody tr th:only-of-type {\n        vertical-align: middle;\n    }\n\n    .dataframe tbody tr th {\n        vertical-align: top;\n    }\n\n    .dataframe thead th {\n        text-align: right;\n    }\n</style>\n<table border=\"1\" class=\"dataframe\">\n  <thead>\n    <tr style=\"text-align: right;\">\n      <th></th>\n      <th>City</th>\n      <th>Latitude</th>\n      <th>Longitude</th>\n      <th>Max Temp</th>\n      <th>Humidity</th>\n      <th>Cloudiness</th>\n      <th>Wind Speed</th>\n    </tr>\n  </thead>\n  <tbody>\n    <tr>\n      <th>9</th>\n      <td>rio verde de mato grosso</td>\n      <td>-18.92</td>\n      <td>-54.84</td>\n      <td>79.95</td>\n      <td>43.0</td>\n      <td>33.0</td>\n      <td>12.66</td>\n    </tr>\n    <tr>\n      <th>29</th>\n      <td>yulara</td>\n      <td>-25.24</td>\n      <td>130.99</td>\n      <td>78.80</td>\n      <td>14.0</td>\n      <td>0.0</td>\n      <td>6.93</td>\n    </tr>\n    <tr>\n      <th>42</th>\n      <td>alice springs</td>\n      <td>-23.70</td>\n      <td>133.88</td>\n      <td>77.00</td>\n      <td>15.0</td>\n      <td>0.0</td>\n      <td>9.17</td>\n    </tr>\n    <tr>\n      <th>56</th>\n      <td>sinjar</td>\n      <td>36.32</td>\n      <td>41.88</td>\n      <td>75.06</td>\n      <td>42.0</td>\n      <td>0.0</td>\n      <td>2.93</td>\n    </tr>\n    <tr>\n      <th>96</th>\n      <td>saint-philippe</td>\n      <td>-21.36</td>\n      <td>55.77</td>\n      <td>73.40</td>\n      <td>43.0</td>\n      <td>43.0</td>\n      <td>9.17</td>\n    </tr>\n    <tr>\n      <th>126</th>\n      <td>santiago del estero</td>\n      <td>-27.80</td>\n      <td>-64.26</td>\n      <td>72.00</td>\n      <td>43.0</td>\n      <td>9.0</td>\n      <td>7.67</td>\n    </tr>\n    <tr>\n      <th>146</th>\n      <td>airai</td>\n      <td>-8.93</td>\n      <td>125.41</td>\n      <td>80.11</td>\n      <td>43.0</td>\n      <td>0.0</td>\n      <td>6.64</td>\n    </tr>\n    <tr>\n      <th>160</th>\n      <td>saint-joseph</td>\n      <td>-21.37</td>\n      <td>55.62</td>\n      <td>73.40</td>\n      <td>43.0</td>\n      <td>45.0</td>\n      <td>9.17</td>\n    </tr>\n    <tr>\n      <th>171</th>\n      <td>saint george</td>\n      <td>37.10</td>\n      <td>-113.58</td>\n      <td>82.40</td>\n      <td>17.0</td>\n      <td>1.0</td>\n      <td>3.36</td>\n    </tr>\n    <tr>\n      <th>196</th>\n      <td>shache</td>\n      <td>38.42</td>\n      <td>77.24</td>\n      <td>77.05</td>\n      <td>17.0</td>\n      <td>0.0</td>\n      <td>1.86</td>\n    </tr>\n    <tr>\n      <th>218</th>\n      <td>jalu</td>\n      <td>29.03</td>\n      <td>21.55</td>\n      <td>73.29</td>\n      <td>44.0</td>\n      <td>0.0</td>\n      <td>7.02</td>\n    </tr>\n    <tr>\n      <th>271</th>\n      <td>mount isa</td>\n      <td>-20.73</td>\n      <td>139.50</td>\n      <td>84.20</td>\n      <td>14.0</td>\n      <td>23.0</td>\n      <td>8.05</td>\n    </tr>\n    <tr>\n      <th>277</th>\n      <td>mandali</td>\n      <td>33.75</td>\n      <td>45.55</td>\n      <td>84.42</td>\n      <td>21.0</td>\n      <td>0.0</td>\n      <td>6.67</td>\n    </tr>\n    <tr>\n      <th>345</th>\n      <td>tessalit</td>\n      <td>20.20</td>\n      <td>1.01</td>\n      <td>84.65</td>\n      <td>18.0</td>\n      <td>0.0</td>\n      <td>3.47</td>\n    </tr>\n    <tr>\n      <th>362</th>\n      <td>awjilah</td>\n      <td>29.11</td>\n      <td>21.29</td>\n      <td>72.45</td>\n      <td>46.0</td>\n      <td>0.0</td>\n      <td>5.37</td>\n    </tr>\n    <tr>\n      <th>370</th>\n      <td>yeppoon</td>\n      <td>-23.13</td>\n      <td>150.73</td>\n      <td>84.20</td>\n      <td>39.0</td>\n      <td>40.0</td>\n      <td>5.82</td>\n    </tr>\n    <tr>\n      <th>372</th>\n      <td>bilma</td>\n      <td>18.69</td>\n      <td>12.92</td>\n      <td>84.81</td>\n      <td>18.0</td>\n      <td>12.0</td>\n      <td>13.80</td>\n    </tr>\n    <tr>\n      <th>397</th>\n      <td>fallon</td>\n      <td>39.47</td>\n      <td>-118.78</td>\n      <td>71.60</td>\n      <td>19.0</td>\n      <td>20.0</td>\n      <td>5.82</td>\n    </tr>\n    <tr>\n      <th>406</th>\n      <td>nelson bay</td>\n      <td>-32.72</td>\n      <td>152.15</td>\n      <td>71.01</td>\n      <td>30.0</td>\n      <td>0.0</td>\n      <td>20.80</td>\n    </tr>\n    <tr>\n      <th>441</th>\n      <td>aswan</td>\n      <td>24.09</td>\n      <td>32.91</td>\n      <td>82.18</td>\n      <td>38.0</td>\n      <td>0.0</td>\n      <td>13.04</td>\n    </tr>\n    <tr>\n      <th>446</th>\n      <td>sakakah</td>\n      <td>29.97</td>\n      <td>40.21</td>\n      <td>75.20</td>\n      <td>25.0</td>\n      <td>0.0</td>\n      <td>5.82</td>\n    </tr>\n    <tr>\n      <th>460</th>\n      <td>tiznit</td>\n      <td>29.58</td>\n      <td>-9.50</td>\n      <td>78.39</td>\n      <td>32.0</td>\n      <td>0.0</td>\n      <td>2.30</td>\n    </tr>\n    <tr>\n      <th>537</th>\n      <td>aksu</td>\n      <td>41.12</td>\n      <td>80.26</td>\n      <td>70.27</td>\n      <td>24.0</td>\n      <td>0.0</td>\n      <td>3.06</td>\n    </tr>\n  </tbody>\n</table>\n</div>"
     },
     "metadata": {},
     "execution_count": 8
    }
   ],
   "source": [
    "# Weather conditions For New Data Frame\n",
    "conditions_df = vacation_df.loc[(vacation_df[\"Max Temp\"]>70) & (vacation_df[\"Max Temp\"]<85) & (vacation_df[\"Humidity\"]<50) & (vacation_df[\"Cloudiness\"]<50)]\n",
    "conditions_df"
   ]
  },
  {
   "cell_type": "markdown",
   "metadata": {},
   "source": [
    "### Hotel Map\n",
    "* Store into variable named `hotel_df`.\n",
    "* Add a \"Hotel Name\" column to the DataFrame.\n",
    "* Set parameters to search for hotels with 5000 meters.\n",
    "* Hit the Google Places API for each city's coordinates.\n",
    "* Store the first Hotel result into the DataFrame.\n",
    "* Plot markers on top of the heatmap."
   ]
  },
  {
   "cell_type": "code",
   "execution_count": 9,
   "metadata": {},
   "outputs": [
    {
     "output_type": "execute_result",
     "data": {
      "text/plain": "                        City  Latitude  Longitude  Max Temp  Humidity  \\\n9   rio verde de mato grosso    -18.92     -54.84     79.95      43.0   \n29                    yulara    -25.24     130.99     78.80      14.0   \n42             alice springs    -23.70     133.88     77.00      15.0   \n56                    sinjar     36.32      41.88     75.06      42.0   \n96            saint-philippe    -21.36      55.77     73.40      43.0   \n\n    Cloudiness  Wind Speed Hotel Name  \n9         33.0       12.66             \n29         0.0        6.93             \n42         0.0        9.17             \n56         0.0        2.93             \n96        43.0        9.17             ",
      "text/html": "<div>\n<style scoped>\n    .dataframe tbody tr th:only-of-type {\n        vertical-align: middle;\n    }\n\n    .dataframe tbody tr th {\n        vertical-align: top;\n    }\n\n    .dataframe thead th {\n        text-align: right;\n    }\n</style>\n<table border=\"1\" class=\"dataframe\">\n  <thead>\n    <tr style=\"text-align: right;\">\n      <th></th>\n      <th>City</th>\n      <th>Latitude</th>\n      <th>Longitude</th>\n      <th>Max Temp</th>\n      <th>Humidity</th>\n      <th>Cloudiness</th>\n      <th>Wind Speed</th>\n      <th>Hotel Name</th>\n    </tr>\n  </thead>\n  <tbody>\n    <tr>\n      <th>9</th>\n      <td>rio verde de mato grosso</td>\n      <td>-18.92</td>\n      <td>-54.84</td>\n      <td>79.95</td>\n      <td>43.0</td>\n      <td>33.0</td>\n      <td>12.66</td>\n      <td></td>\n    </tr>\n    <tr>\n      <th>29</th>\n      <td>yulara</td>\n      <td>-25.24</td>\n      <td>130.99</td>\n      <td>78.80</td>\n      <td>14.0</td>\n      <td>0.0</td>\n      <td>6.93</td>\n      <td></td>\n    </tr>\n    <tr>\n      <th>42</th>\n      <td>alice springs</td>\n      <td>-23.70</td>\n      <td>133.88</td>\n      <td>77.00</td>\n      <td>15.0</td>\n      <td>0.0</td>\n      <td>9.17</td>\n      <td></td>\n    </tr>\n    <tr>\n      <th>56</th>\n      <td>sinjar</td>\n      <td>36.32</td>\n      <td>41.88</td>\n      <td>75.06</td>\n      <td>42.0</td>\n      <td>0.0</td>\n      <td>2.93</td>\n      <td></td>\n    </tr>\n    <tr>\n      <th>96</th>\n      <td>saint-philippe</td>\n      <td>-21.36</td>\n      <td>55.77</td>\n      <td>73.40</td>\n      <td>43.0</td>\n      <td>43.0</td>\n      <td>9.17</td>\n      <td></td>\n    </tr>\n  </tbody>\n</table>\n</div>"
     },
     "metadata": {},
     "execution_count": 9
    }
   ],
   "source": [
    "hotel_df = conditions_df\n",
    "hotel_df[\"Hotel Name\"] = \"\"\n",
    "hotel_df.head()"
   ]
  },
  {
   "cell_type": "code",
   "execution_count": 10,
   "metadata": {},
   "outputs": [
    {
     "output_type": "execute_result",
     "data": {
      "text/plain": "Empty DataFrame\nColumns: [City, Latitude, Longitude, Max Temp, Humidity, Cloudiness, Wind Speed, Hotel Name]\nIndex: []",
      "text/html": "<div>\n<style scoped>\n    .dataframe tbody tr th:only-of-type {\n        vertical-align: middle;\n    }\n\n    .dataframe tbody tr th {\n        vertical-align: top;\n    }\n\n    .dataframe thead th {\n        text-align: right;\n    }\n</style>\n<table border=\"1\" class=\"dataframe\">\n  <thead>\n    <tr style=\"text-align: right;\">\n      <th></th>\n      <th>City</th>\n      <th>Latitude</th>\n      <th>Longitude</th>\n      <th>Max Temp</th>\n      <th>Humidity</th>\n      <th>Cloudiness</th>\n      <th>Wind Speed</th>\n      <th>Hotel Name</th>\n    </tr>\n  </thead>\n  <tbody>\n  </tbody>\n</table>\n</div>"
     },
     "metadata": {},
     "execution_count": 10
    }
   ],
   "source": [
    "#param that updates with each iteration \n",
    "params = {\"key\": g_key,\n",
    "         \"type\": \"lodging\",\n",
    "         \"radius\": 5000}\n",
    "\n",
    "# Loop through the data rame and run a lat long \n",
    "for index, row in hotel_df.iterrows():\n",
    "    base_url = \"https://maps.googleapis.com/maps/api/place/nearbysearch/json\"\n",
    "    latitude = row[\"Latitude\"]\n",
    "    longitude = row[\"Longitude\"]\n",
    "\n",
    "    # update address key value\n",
    "    params['location'] = f\"{latitude},{longitude}\"\n",
    "\n",
    "    # make request\n",
    "    hotels = requests.get(base_url, params=params).json()\n",
    "    response = hotels['results']\n",
    "    \n",
    "    try:\n",
    "               \n",
    "        hotel_df.loc[index, \"Hotel Name\"] = response[0]['name']\n",
    "        \n",
    "    except (KeyError, IndexError):\n",
    "        \n",
    "        hotel_df.loc[index, \"Hotel Name\"] = \"\"\n",
    "\n",
    "hotel_df = hotel_df.loc[(hotel_df[\"Hotel Name\"] != \"\"), :]\n",
    "hotel_df"
   ]
  },
  {
   "cell_type": "code",
   "execution_count": 11,
   "metadata": {},
   "outputs": [
    {
     "output_type": "error",
     "ename": "KeyError",
     "evalue": "\"None of [Index(['Lat', 'Lng'], dtype='object')] are in the [columns]\"",
     "traceback": [
      "\u001b[0;31m---------------------------------------------------------------------------\u001b[0m",
      "\u001b[0;31mKeyError\u001b[0m                                  Traceback (most recent call last)",
      "\u001b[0;32m<ipython-input-11-464b2b3e63ad>\u001b[0m in \u001b[0;36m<module>\u001b[0;34m\u001b[0m\n\u001b[1;32m     12\u001b[0m \u001b[0;31m# NOTE: be sure to update with your DataFrame name\u001b[0m\u001b[0;34m\u001b[0m\u001b[0;34m\u001b[0m\u001b[0;34m\u001b[0m\u001b[0m\n\u001b[1;32m     13\u001b[0m \u001b[0mhotel_info\u001b[0m \u001b[0;34m=\u001b[0m \u001b[0;34m[\u001b[0m\u001b[0minfo_box_template\u001b[0m\u001b[0;34m.\u001b[0m\u001b[0mformat\u001b[0m\u001b[0;34m(\u001b[0m\u001b[0;34m**\u001b[0m\u001b[0mrow\u001b[0m\u001b[0;34m)\u001b[0m \u001b[0;32mfor\u001b[0m \u001b[0mindex\u001b[0m\u001b[0;34m,\u001b[0m \u001b[0mrow\u001b[0m \u001b[0;32min\u001b[0m \u001b[0mhotel_df\u001b[0m\u001b[0;34m.\u001b[0m\u001b[0miterrows\u001b[0m\u001b[0;34m(\u001b[0m\u001b[0;34m)\u001b[0m\u001b[0;34m]\u001b[0m\u001b[0;34m\u001b[0m\u001b[0;34m\u001b[0m\u001b[0m\n\u001b[0;32m---> 14\u001b[0;31m \u001b[0mlocations\u001b[0m \u001b[0;34m=\u001b[0m \u001b[0mhotel_df\u001b[0m\u001b[0;34m[\u001b[0m\u001b[0;34m[\u001b[0m\u001b[0;34m\"Lat\"\u001b[0m\u001b[0;34m,\u001b[0m \u001b[0;34m\"Lng\"\u001b[0m\u001b[0;34m]\u001b[0m\u001b[0;34m]\u001b[0m\u001b[0;34m\u001b[0m\u001b[0;34m\u001b[0m\u001b[0m\n\u001b[0m",
      "\u001b[0;32m/opt/anaconda3/lib/python3.7/site-packages/pandas/core/frame.py\u001b[0m in \u001b[0;36m__getitem__\u001b[0;34m(self, key)\u001b[0m\n\u001b[1;32m   2804\u001b[0m             \u001b[0;32mif\u001b[0m \u001b[0mis_iterator\u001b[0m\u001b[0;34m(\u001b[0m\u001b[0mkey\u001b[0m\u001b[0;34m)\u001b[0m\u001b[0;34m:\u001b[0m\u001b[0;34m\u001b[0m\u001b[0;34m\u001b[0m\u001b[0m\n\u001b[1;32m   2805\u001b[0m                 \u001b[0mkey\u001b[0m \u001b[0;34m=\u001b[0m \u001b[0mlist\u001b[0m\u001b[0;34m(\u001b[0m\u001b[0mkey\u001b[0m\u001b[0;34m)\u001b[0m\u001b[0;34m\u001b[0m\u001b[0;34m\u001b[0m\u001b[0m\n\u001b[0;32m-> 2806\u001b[0;31m             \u001b[0mindexer\u001b[0m \u001b[0;34m=\u001b[0m \u001b[0mself\u001b[0m\u001b[0;34m.\u001b[0m\u001b[0mloc\u001b[0m\u001b[0;34m.\u001b[0m\u001b[0m_get_listlike_indexer\u001b[0m\u001b[0;34m(\u001b[0m\u001b[0mkey\u001b[0m\u001b[0;34m,\u001b[0m \u001b[0maxis\u001b[0m\u001b[0;34m=\u001b[0m\u001b[0;36m1\u001b[0m\u001b[0;34m,\u001b[0m \u001b[0mraise_missing\u001b[0m\u001b[0;34m=\u001b[0m\u001b[0;32mTrue\u001b[0m\u001b[0;34m)\u001b[0m\u001b[0;34m[\u001b[0m\u001b[0;36m1\u001b[0m\u001b[0;34m]\u001b[0m\u001b[0;34m\u001b[0m\u001b[0;34m\u001b[0m\u001b[0m\n\u001b[0m\u001b[1;32m   2807\u001b[0m \u001b[0;34m\u001b[0m\u001b[0m\n\u001b[1;32m   2808\u001b[0m         \u001b[0;31m# take() does not accept boolean indexers\u001b[0m\u001b[0;34m\u001b[0m\u001b[0;34m\u001b[0m\u001b[0;34m\u001b[0m\u001b[0m\n",
      "\u001b[0;32m/opt/anaconda3/lib/python3.7/site-packages/pandas/core/indexing.py\u001b[0m in \u001b[0;36m_get_listlike_indexer\u001b[0;34m(self, key, axis, raise_missing)\u001b[0m\n\u001b[1;32m   1550\u001b[0m \u001b[0;34m\u001b[0m\u001b[0m\n\u001b[1;32m   1551\u001b[0m         self._validate_read_indexer(\n\u001b[0;32m-> 1552\u001b[0;31m             \u001b[0mkeyarr\u001b[0m\u001b[0;34m,\u001b[0m \u001b[0mindexer\u001b[0m\u001b[0;34m,\u001b[0m \u001b[0mo\u001b[0m\u001b[0;34m.\u001b[0m\u001b[0m_get_axis_number\u001b[0m\u001b[0;34m(\u001b[0m\u001b[0maxis\u001b[0m\u001b[0;34m)\u001b[0m\u001b[0;34m,\u001b[0m \u001b[0mraise_missing\u001b[0m\u001b[0;34m=\u001b[0m\u001b[0mraise_missing\u001b[0m\u001b[0;34m\u001b[0m\u001b[0;34m\u001b[0m\u001b[0m\n\u001b[0m\u001b[1;32m   1553\u001b[0m         )\n\u001b[1;32m   1554\u001b[0m         \u001b[0;32mreturn\u001b[0m \u001b[0mkeyarr\u001b[0m\u001b[0;34m,\u001b[0m \u001b[0mindexer\u001b[0m\u001b[0;34m\u001b[0m\u001b[0;34m\u001b[0m\u001b[0m\n",
      "\u001b[0;32m/opt/anaconda3/lib/python3.7/site-packages/pandas/core/indexing.py\u001b[0m in \u001b[0;36m_validate_read_indexer\u001b[0;34m(self, key, indexer, axis, raise_missing)\u001b[0m\n\u001b[1;32m   1637\u001b[0m             \u001b[0;32mif\u001b[0m \u001b[0mmissing\u001b[0m \u001b[0;34m==\u001b[0m \u001b[0mlen\u001b[0m\u001b[0;34m(\u001b[0m\u001b[0mindexer\u001b[0m\u001b[0;34m)\u001b[0m\u001b[0;34m:\u001b[0m\u001b[0;34m\u001b[0m\u001b[0;34m\u001b[0m\u001b[0m\n\u001b[1;32m   1638\u001b[0m                 \u001b[0maxis_name\u001b[0m \u001b[0;34m=\u001b[0m \u001b[0mself\u001b[0m\u001b[0;34m.\u001b[0m\u001b[0mobj\u001b[0m\u001b[0;34m.\u001b[0m\u001b[0m_get_axis_name\u001b[0m\u001b[0;34m(\u001b[0m\u001b[0maxis\u001b[0m\u001b[0;34m)\u001b[0m\u001b[0;34m\u001b[0m\u001b[0;34m\u001b[0m\u001b[0m\n\u001b[0;32m-> 1639\u001b[0;31m                 \u001b[0;32mraise\u001b[0m \u001b[0mKeyError\u001b[0m\u001b[0;34m(\u001b[0m\u001b[0;34mf\"None of [{key}] are in the [{axis_name}]\"\u001b[0m\u001b[0;34m)\u001b[0m\u001b[0;34m\u001b[0m\u001b[0;34m\u001b[0m\u001b[0m\n\u001b[0m\u001b[1;32m   1640\u001b[0m \u001b[0;34m\u001b[0m\u001b[0m\n\u001b[1;32m   1641\u001b[0m             \u001b[0;31m# We (temporarily) allow for some missing keys with .loc, except in\u001b[0m\u001b[0;34m\u001b[0m\u001b[0;34m\u001b[0m\u001b[0;34m\u001b[0m\u001b[0m\n",
      "\u001b[0;31mKeyError\u001b[0m: \"None of [Index(['Lat', 'Lng'], dtype='object')] are in the [columns]\""
     ]
    }
   ],
   "source": [
    "# NOTE: Do not change any of the code in this cell\n",
    "\n",
    "# Using the template add the hotel marks to the heatmap\n",
    "info_box_template = \"\"\"\n",
    "<dl>\n",
    "<dt>Name</dt><dd>{Hotel Name}</dd>\n",
    "<dt>City</dt><dd>{City}</dd>\n",
    "<dt>Country</dt><dd>{Country}</dd>\n",
    "</dl>\n",
    "\"\"\"\n",
    "# Store the DataFrame Row\n",
    "# NOTE: be sure to update with your DataFrame name\n",
    "hotel_info = [info_box_template.format(**row) for index, row in hotel_df.iterrows()]\n",
    "locations = hotel_df[[\"Lat\", \"Lng\"]]"
   ]
  },
  {
   "cell_type": "code",
   "execution_count": 12,
   "metadata": {},
   "outputs": [
    {
     "output_type": "error",
     "ename": "NameError",
     "evalue": "name 'fig' is not defined",
     "traceback": [
      "\u001b[0;31m---------------------------------------------------------------------------\u001b[0m",
      "\u001b[0;31mNameError\u001b[0m                                 Traceback (most recent call last)",
      "\u001b[0;32m<ipython-input-12-7ec04116e4c6>\u001b[0m in \u001b[0;36m<module>\u001b[0;34m\u001b[0m\n\u001b[1;32m      4\u001b[0m \u001b[0;34m\u001b[0m\u001b[0m\n\u001b[1;32m      5\u001b[0m \u001b[0;31m# Add the layer to the map\u001b[0m\u001b[0;34m\u001b[0m\u001b[0;34m\u001b[0m\u001b[0;34m\u001b[0m\u001b[0m\n\u001b[0;32m----> 6\u001b[0;31m \u001b[0mfig\u001b[0m\u001b[0;34m.\u001b[0m\u001b[0madd_layer\u001b[0m\u001b[0;34m(\u001b[0m\u001b[0mmarkers\u001b[0m\u001b[0;34m)\u001b[0m\u001b[0;34m\u001b[0m\u001b[0;34m\u001b[0m\u001b[0m\n\u001b[0m\u001b[1;32m      7\u001b[0m \u001b[0;34m\u001b[0m\u001b[0m\n\u001b[1;32m      8\u001b[0m \u001b[0;31m# Display figure\u001b[0m\u001b[0;34m\u001b[0m\u001b[0;34m\u001b[0m\u001b[0;34m\u001b[0m\u001b[0m\n",
      "\u001b[0;31mNameError\u001b[0m: name 'fig' is not defined"
     ]
    }
   ],
   "source": [
    "# Add marker layer ontop of heat map\n",
    "\n",
    "markers = gmaps.marker_layer(locations)\n",
    "\n",
    "# Add the layer to the map\n",
    "fig.add_layer(markers)\n",
    "\n",
    "# Display figure\n",
    "fig"
   ]
  },
  {
   "cell_type": "code",
   "execution_count": null,
   "metadata": {},
   "outputs": [],
   "source": []
  }
 ],
 "metadata": {
  "kernelspec": {
   "name": "Python 3.7.6 64-bit ('base': conda)",
   "display_name": "Python 3.7.6 64-bit ('base': conda)",
   "metadata": {
    "interpreter": {
     "hash": "dca0ade3e726a953b501b15e8e990130d2b7799f14cfd9f4271676035ebe5511"
    }
   }
  },
  "language_info": {
   "codemirror_mode": {
    "name": "ipython",
    "version": 3
   },
   "file_extension": ".py",
   "mimetype": "text/x-python",
   "name": "python",
   "nbconvert_exporter": "python",
   "pygments_lexer": "ipython3",
   "version": "3.7.6-final"
  },
  "latex_envs": {
   "LaTeX_envs_menu_present": true,
   "autoclose": false,
   "autocomplete": true,
   "bibliofile": "biblio.bib",
   "cite_by": "apalike",
   "current_citInitial": 1,
   "eqLabelWithNumbers": true,
   "eqNumInitial": 1,
   "hotkeys": {
    "equation": "Ctrl-E",
    "itemize": "Ctrl-I"
   },
   "labels_anchors": false,
   "latex_user_defs": false,
   "report_style_numbering": false,
   "user_envs_cfg": false
  }
 },
 "nbformat": 4,
 "nbformat_minor": 2
}