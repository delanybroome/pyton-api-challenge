{
 "cells": [
  {
   "cell_type": "markdown",
   "metadata": {},
   "source": [
    "# VacationPy\n",
    "----\n",
    "\n",
    "#### Note\n",
    "* Instructions have been included for each segment. You do not have to follow them exactly, but they are included to help you think through the steps."
   ]
  },
  {
   "cell_type": "code",
   "execution_count": 2,
   "metadata": {},
   "outputs": [],
   "source": [
    "# Dependencies and Setup\n",
    "import matplotlib.pyplot as plt\n",
    "import pandas as pd\n",
    "import numpy as np\n",
    "import requests\n",
    "import gmaps\n",
    "import os\n",
    "\n",
    "# Import API key\n",
    "from api_keys import g_key"
   ]
  },
  {
   "cell_type": "markdown",
   "metadata": {},
   "source": [
    "### Store Part I results into DataFrame\n",
    "* Load the csv exported in Part I to a DataFrame"
   ]
  },
  {
   "cell_type": "code",
   "execution_count": 3,
   "metadata": {},
   "outputs": [
    {
     "output_type": "execute_result",
     "data": {
      "text/plain": "              City  Latitude  Longitude  Max Temp  Humidity  Cloudiness  \\\n0          milkovo     54.72     158.62     50.67      54.0        27.0   \n1           avarua    -21.21    -159.78     78.80      94.0        75.0   \n2     san patricio     19.22    -104.70     80.28      88.0        68.0   \n3         hermanus    -34.42      19.23     48.99      95.0         0.0   \n4        busselton    -33.65     115.33     66.99      57.0        35.0   \n..             ...       ...        ...       ...       ...         ...   \n558      ust-kuyga     70.02     135.60     49.93      49.0        16.0   \n559        qinzhou     21.95     108.62     79.48      74.0        65.0   \n560  half moon bay     37.46    -122.43     71.01      93.0        90.0   \n561        dandong     40.13     124.39     69.39      59.0       100.0   \n562            soe     -9.86     124.28     87.89      30.0         7.0   \n\n     Wind Speed  \n0          2.37  \n1          3.36  \n2          3.31  \n3          5.03  \n4          5.01  \n..          ...  \n558        6.44  \n559       12.15  \n560       10.29  \n561        2.82  \n562       11.34  \n\n[563 rows x 7 columns]",
      "text/html": "<div>\n<style scoped>\n    .dataframe tbody tr th:only-of-type {\n        vertical-align: middle;\n    }\n\n    .dataframe tbody tr th {\n        vertical-align: top;\n    }\n\n    .dataframe thead th {\n        text-align: right;\n    }\n</style>\n<table border=\"1\" class=\"dataframe\">\n  <thead>\n    <tr style=\"text-align: right;\">\n      <th></th>\n      <th>City</th>\n      <th>Latitude</th>\n      <th>Longitude</th>\n      <th>Max Temp</th>\n      <th>Humidity</th>\n      <th>Cloudiness</th>\n      <th>Wind Speed</th>\n    </tr>\n  </thead>\n  <tbody>\n    <tr>\n      <th>0</th>\n      <td>milkovo</td>\n      <td>54.72</td>\n      <td>158.62</td>\n      <td>50.67</td>\n      <td>54.0</td>\n      <td>27.0</td>\n      <td>2.37</td>\n    </tr>\n    <tr>\n      <th>1</th>\n      <td>avarua</td>\n      <td>-21.21</td>\n      <td>-159.78</td>\n      <td>78.80</td>\n      <td>94.0</td>\n      <td>75.0</td>\n      <td>3.36</td>\n    </tr>\n    <tr>\n      <th>2</th>\n      <td>san patricio</td>\n      <td>19.22</td>\n      <td>-104.70</td>\n      <td>80.28</td>\n      <td>88.0</td>\n      <td>68.0</td>\n      <td>3.31</td>\n    </tr>\n    <tr>\n      <th>3</th>\n      <td>hermanus</td>\n      <td>-34.42</td>\n      <td>19.23</td>\n      <td>48.99</td>\n      <td>95.0</td>\n      <td>0.0</td>\n      <td>5.03</td>\n    </tr>\n    <tr>\n      <th>4</th>\n      <td>busselton</td>\n      <td>-33.65</td>\n      <td>115.33</td>\n      <td>66.99</td>\n      <td>57.0</td>\n      <td>35.0</td>\n      <td>5.01</td>\n    </tr>\n    <tr>\n      <th>...</th>\n      <td>...</td>\n      <td>...</td>\n      <td>...</td>\n      <td>...</td>\n      <td>...</td>\n      <td>...</td>\n      <td>...</td>\n    </tr>\n    <tr>\n      <th>558</th>\n      <td>ust-kuyga</td>\n      <td>70.02</td>\n      <td>135.60</td>\n      <td>49.93</td>\n      <td>49.0</td>\n      <td>16.0</td>\n      <td>6.44</td>\n    </tr>\n    <tr>\n      <th>559</th>\n      <td>qinzhou</td>\n      <td>21.95</td>\n      <td>108.62</td>\n      <td>79.48</td>\n      <td>74.0</td>\n      <td>65.0</td>\n      <td>12.15</td>\n    </tr>\n    <tr>\n      <th>560</th>\n      <td>half moon bay</td>\n      <td>37.46</td>\n      <td>-122.43</td>\n      <td>71.01</td>\n      <td>93.0</td>\n      <td>90.0</td>\n      <td>10.29</td>\n    </tr>\n    <tr>\n      <th>561</th>\n      <td>dandong</td>\n      <td>40.13</td>\n      <td>124.39</td>\n      <td>69.39</td>\n      <td>59.0</td>\n      <td>100.0</td>\n      <td>2.82</td>\n    </tr>\n    <tr>\n      <th>562</th>\n      <td>soe</td>\n      <td>-9.86</td>\n      <td>124.28</td>\n      <td>87.89</td>\n      <td>30.0</td>\n      <td>7.0</td>\n      <td>11.34</td>\n    </tr>\n  </tbody>\n</table>\n<p>563 rows × 7 columns</p>\n</div>"
     },
     "metadata": {},
     "execution_count": 3
    }
   ],
   "source": [
    "vacation_df = pd.read_csv(\"city_data.csv\", index_col=False)\n",
    "vacation_df.reset_index(drop=True, inplace=True)\n",
    "vacation_df\n"
   ]
  },
  {
   "cell_type": "code",
   "execution_count": null,
   "metadata": {},
   "outputs": [],
   "source": []
  },
  {
   "cell_type": "markdown",
   "metadata": {},
   "source": [
    "### Humidity Heatmap\n",
    "* Configure gmaps.\n",
    "* Use the Lat and Lng as locations and Humidity as the weight.\n",
    "* Add Heatmap layer to map."
   ]
  },
  {
   "cell_type": "code",
   "execution_count": 5,
   "metadata": {
    "tags": []
   },
   "outputs": [
    {
     "output_type": "stream",
     "name": "stdout",
     "text": "563\n563\n"
    }
   ],
   "source": [
    "# Configure gmaps with API key\n",
    "gmaps.configure(api_key=g_key)\n",
    "\n",
    "# Store 'Lat' and 'Lng' into  locations \n",
    "locations = vacation_df[['Latitude', 'Longitude']].astype(float)\n",
    "\n",
    "# Convert Humidity to float and store\n",
    "humidity = vacation_df['Humidity'].astype(float)\n",
    "print(len(locations))\n",
    "print(len(humidity))"
   ]
  },
  {
   "cell_type": "code",
   "execution_count": 6,
   "metadata": {},
   "outputs": [
    {
     "output_type": "display_data",
     "data": {
      "text/plain": "Figure(layout=FigureLayout(border='1px solid black', height='500px', margin='0 auto 0 auto', padding='1px', wi…",
      "application/vnd.jupyter.widget-view+json": {
       "version_major": 2,
       "version_minor": 0,
       "model_id": "314ec01ce6164b5dbd9965d7615f5b5a"
      }
     },
     "metadata": {}
    }
   ],
   "source": [
    "# Plot Heatmap\n",
    "fig = gmaps.figure()\n",
    "\n",
    "# customize the size of the figure\n",
    "fig_layout = {\n",
    "    'width': '700px',\n",
    "    'height': '500px',\n",
    "    'border': '1px solid black',\n",
    "    'padding': '1px',\n",
    "    'margin': '0 auto 0 auto'\n",
    "}\n",
    "fig = gmaps.figure(layout=fig_layout)\n",
    "\n",
    "# heat layer\n",
    "heat_layer = gmaps.heatmap_layer(locations, weights=humidity, \n",
    "                                 dissipating=False, max_intensity=100,\n",
    "                                 point_radius=3)\n",
    "\n",
    "\n",
    "# add layer\n",
    "fig.add_layer(heat_layer)\n",
    "\n",
    "# display figure\n",
    "fig"
   ]
  },
  {
   "cell_type": "markdown",
   "metadata": {},
   "source": [
    "### Create new DataFrame fitting weather criteria\n",
    "* Narrow down the cities to fit weather conditions.\n",
    "* Drop any rows will null values."
   ]
  },
  {
   "cell_type": "code",
   "execution_count": 7,
   "metadata": {},
   "outputs": [
    {
     "output_type": "execute_result",
     "data": {
      "text/plain": "                     City  Latitude  Longitude  Max Temp  Humidity  \\\n16                rikitea    -23.12    -134.97     72.32      77.0   \n25   vila franca do campo     37.72     -25.43     64.40      63.0   \n28              jamestown     42.10     -79.24     60.80      77.0   \n44               belmonte    -15.86     -38.88     77.00      69.0   \n47                 atuona     -9.80    -139.03     78.53      72.0   \n51                  kapaa     22.08    -159.32     84.20      66.0   \n57             butaritari      3.07     172.79     83.17      72.0   \n63                  vaini    -21.20    -175.20     77.00      78.0   \n82                kahului     20.89    -156.47     82.40      69.0   \n120                nemuro     43.32     145.57     60.80      63.0   \n153            altensteig     48.58       8.60     66.20      63.0   \n154                kavali     14.92      79.98     84.83      61.0   \n170               angoche    -16.23      39.91     73.09      74.0   \n173        cabo san lucas     22.89    -109.91     84.00      78.0   \n185        ribeira grande     38.52     -28.70     65.48      71.0   \n193                boueni    -12.90      45.08     77.00      78.0   \n203               shimoda     34.67     138.95     69.80      77.0   \n228           mitsamiouli    -11.38      43.28     76.86      75.0   \n233         cockburn town     21.46     -71.14     82.60      79.0   \n241             esperance    -33.87     121.90     60.80      67.0   \n246                mackay    -21.15     149.20     80.60      65.0   \n276                 kihei     20.79    -156.47     82.40      69.0   \n283               vaitape    -16.52    -151.75     79.95      77.0   \n285         ponta delgada     37.73     -25.67     64.40      63.0   \n304               tagusao      9.19     117.81     86.20      69.0   \n308                  daru     -9.08     143.21     80.87      74.0   \n315                   eyl      7.98      49.82     78.42      70.0   \n331                 lagoa     39.05     -27.98     65.84      70.0   \n332             bathsheba     13.22     -59.52     84.20      74.0   \n334                faanui    -16.48    -151.75     79.11      78.0   \n352             wanlaweyn      2.62      44.89     77.38      69.0   \n357             niceville     30.52     -86.48     79.00      78.0   \n362             carnarvon    -24.87     113.63     75.20      69.0   \n368                 basco     20.45     121.97     83.48      79.0   \n374         saint-georges     12.06     -61.75     86.00      79.0   \n405                  jati     24.35      68.27     84.38      71.0   \n411                laredo     27.51     -99.51     80.60      65.0   \n416               kismayo     -0.36      42.55     77.85      76.0   \n425         bambanglipuro     -7.95     110.28     82.83      71.0   \n448           kattivakkam     13.22      80.32     86.00      62.0   \n452               marabba     12.35      32.18     76.84      78.0   \n457             kavaratti     10.57      72.64     84.20      79.0   \n461                  poum    -20.23     164.02     73.26      73.0   \n488         marsh harbour     26.54     -77.06     80.10      69.0   \n493                mandan     46.83    -100.89     62.60      72.0   \n545                  fare    -16.70    -151.02     79.48      78.0   \n549              islamkot     24.70      70.18     84.06      69.0   \n550           bandarbeyla      9.49      50.81     79.03      70.0   \n559               qinzhou     21.95     108.62     79.48      74.0   \n\n     Cloudiness  Wind Speed  \n16          6.0       10.80  \n25         40.0       13.87  \n28          1.0       11.41  \n44         75.0       10.29  \n47         49.0       17.74  \n51         40.0       14.99  \n57         88.0       12.37  \n63         20.0       12.75  \n82         75.0       21.92  \n120        40.0       10.29  \n153        40.0       12.75  \n154       100.0       11.34  \n170        85.0       12.26  \n173        20.0       16.11  \n185        16.0       18.30  \n193        75.0       16.11  \n203        75.0       38.03  \n228         1.0       10.80  \n233        27.0       13.65  \n241        75.0       10.29  \n246        38.0       12.75  \n276        90.0       13.87  \n283         1.0       13.09  \n285        40.0       13.87  \n304        90.0       11.12  \n308       100.0       12.53  \n315        64.0       21.32  \n331       100.0       14.36  \n332        20.0       11.41  \n334         0.0       13.04  \n352        79.0       15.90  \n357        75.0       11.41  \n362        75.0       13.87  \n368        20.0       14.90  \n374        20.0       14.99  \n405         0.0       13.89  \n411         1.0       11.41  \n416        57.0       13.51  \n425        88.0       11.99  \n448        24.0       11.41  \n452        75.0       13.94  \n457        40.0       13.87  \n461         0.0       15.21  \n488        24.0       16.62  \n493        90.0       11.41  \n545         0.0       13.62  \n549        45.0       13.89  \n550         8.0       20.78  \n559        65.0       12.15  ",
      "text/html": "<div>\n<style scoped>\n    .dataframe tbody tr th:only-of-type {\n        vertical-align: middle;\n    }\n\n    .dataframe tbody tr th {\n        vertical-align: top;\n    }\n\n    .dataframe thead th {\n        text-align: right;\n    }\n</style>\n<table border=\"1\" class=\"dataframe\">\n  <thead>\n    <tr style=\"text-align: right;\">\n      <th></th>\n      <th>City</th>\n      <th>Latitude</th>\n      <th>Longitude</th>\n      <th>Max Temp</th>\n      <th>Humidity</th>\n      <th>Cloudiness</th>\n      <th>Wind Speed</th>\n    </tr>\n  </thead>\n  <tbody>\n    <tr>\n      <th>16</th>\n      <td>rikitea</td>\n      <td>-23.12</td>\n      <td>-134.97</td>\n      <td>72.32</td>\n      <td>77.0</td>\n      <td>6.0</td>\n      <td>10.80</td>\n    </tr>\n    <tr>\n      <th>25</th>\n      <td>vila franca do campo</td>\n      <td>37.72</td>\n      <td>-25.43</td>\n      <td>64.40</td>\n      <td>63.0</td>\n      <td>40.0</td>\n      <td>13.87</td>\n    </tr>\n    <tr>\n      <th>28</th>\n      <td>jamestown</td>\n      <td>42.10</td>\n      <td>-79.24</td>\n      <td>60.80</td>\n      <td>77.0</td>\n      <td>1.0</td>\n      <td>11.41</td>\n    </tr>\n    <tr>\n      <th>44</th>\n      <td>belmonte</td>\n      <td>-15.86</td>\n      <td>-38.88</td>\n      <td>77.00</td>\n      <td>69.0</td>\n      <td>75.0</td>\n      <td>10.29</td>\n    </tr>\n    <tr>\n      <th>47</th>\n      <td>atuona</td>\n      <td>-9.80</td>\n      <td>-139.03</td>\n      <td>78.53</td>\n      <td>72.0</td>\n      <td>49.0</td>\n      <td>17.74</td>\n    </tr>\n    <tr>\n      <th>51</th>\n      <td>kapaa</td>\n      <td>22.08</td>\n      <td>-159.32</td>\n      <td>84.20</td>\n      <td>66.0</td>\n      <td>40.0</td>\n      <td>14.99</td>\n    </tr>\n    <tr>\n      <th>57</th>\n      <td>butaritari</td>\n      <td>3.07</td>\n      <td>172.79</td>\n      <td>83.17</td>\n      <td>72.0</td>\n      <td>88.0</td>\n      <td>12.37</td>\n    </tr>\n    <tr>\n      <th>63</th>\n      <td>vaini</td>\n      <td>-21.20</td>\n      <td>-175.20</td>\n      <td>77.00</td>\n      <td>78.0</td>\n      <td>20.0</td>\n      <td>12.75</td>\n    </tr>\n    <tr>\n      <th>82</th>\n      <td>kahului</td>\n      <td>20.89</td>\n      <td>-156.47</td>\n      <td>82.40</td>\n      <td>69.0</td>\n      <td>75.0</td>\n      <td>21.92</td>\n    </tr>\n    <tr>\n      <th>120</th>\n      <td>nemuro</td>\n      <td>43.32</td>\n      <td>145.57</td>\n      <td>60.80</td>\n      <td>63.0</td>\n      <td>40.0</td>\n      <td>10.29</td>\n    </tr>\n    <tr>\n      <th>153</th>\n      <td>altensteig</td>\n      <td>48.58</td>\n      <td>8.60</td>\n      <td>66.20</td>\n      <td>63.0</td>\n      <td>40.0</td>\n      <td>12.75</td>\n    </tr>\n    <tr>\n      <th>154</th>\n      <td>kavali</td>\n      <td>14.92</td>\n      <td>79.98</td>\n      <td>84.83</td>\n      <td>61.0</td>\n      <td>100.0</td>\n      <td>11.34</td>\n    </tr>\n    <tr>\n      <th>170</th>\n      <td>angoche</td>\n      <td>-16.23</td>\n      <td>39.91</td>\n      <td>73.09</td>\n      <td>74.0</td>\n      <td>85.0</td>\n      <td>12.26</td>\n    </tr>\n    <tr>\n      <th>173</th>\n      <td>cabo san lucas</td>\n      <td>22.89</td>\n      <td>-109.91</td>\n      <td>84.00</td>\n      <td>78.0</td>\n      <td>20.0</td>\n      <td>16.11</td>\n    </tr>\n    <tr>\n      <th>185</th>\n      <td>ribeira grande</td>\n      <td>38.52</td>\n      <td>-28.70</td>\n      <td>65.48</td>\n      <td>71.0</td>\n      <td>16.0</td>\n      <td>18.30</td>\n    </tr>\n    <tr>\n      <th>193</th>\n      <td>boueni</td>\n      <td>-12.90</td>\n      <td>45.08</td>\n      <td>77.00</td>\n      <td>78.0</td>\n      <td>75.0</td>\n      <td>16.11</td>\n    </tr>\n    <tr>\n      <th>203</th>\n      <td>shimoda</td>\n      <td>34.67</td>\n      <td>138.95</td>\n      <td>69.80</td>\n      <td>77.0</td>\n      <td>75.0</td>\n      <td>38.03</td>\n    </tr>\n    <tr>\n      <th>228</th>\n      <td>mitsamiouli</td>\n      <td>-11.38</td>\n      <td>43.28</td>\n      <td>76.86</td>\n      <td>75.0</td>\n      <td>1.0</td>\n      <td>10.80</td>\n    </tr>\n    <tr>\n      <th>233</th>\n      <td>cockburn town</td>\n      <td>21.46</td>\n      <td>-71.14</td>\n      <td>82.60</td>\n      <td>79.0</td>\n      <td>27.0</td>\n      <td>13.65</td>\n    </tr>\n    <tr>\n      <th>241</th>\n      <td>esperance</td>\n      <td>-33.87</td>\n      <td>121.90</td>\n      <td>60.80</td>\n      <td>67.0</td>\n      <td>75.0</td>\n      <td>10.29</td>\n    </tr>\n    <tr>\n      <th>246</th>\n      <td>mackay</td>\n      <td>-21.15</td>\n      <td>149.20</td>\n      <td>80.60</td>\n      <td>65.0</td>\n      <td>38.0</td>\n      <td>12.75</td>\n    </tr>\n    <tr>\n      <th>276</th>\n      <td>kihei</td>\n      <td>20.79</td>\n      <td>-156.47</td>\n      <td>82.40</td>\n      <td>69.0</td>\n      <td>90.0</td>\n      <td>13.87</td>\n    </tr>\n    <tr>\n      <th>283</th>\n      <td>vaitape</td>\n      <td>-16.52</td>\n      <td>-151.75</td>\n      <td>79.95</td>\n      <td>77.0</td>\n      <td>1.0</td>\n      <td>13.09</td>\n    </tr>\n    <tr>\n      <th>285</th>\n      <td>ponta delgada</td>\n      <td>37.73</td>\n      <td>-25.67</td>\n      <td>64.40</td>\n      <td>63.0</td>\n      <td>40.0</td>\n      <td>13.87</td>\n    </tr>\n    <tr>\n      <th>304</th>\n      <td>tagusao</td>\n      <td>9.19</td>\n      <td>117.81</td>\n      <td>86.20</td>\n      <td>69.0</td>\n      <td>90.0</td>\n      <td>11.12</td>\n    </tr>\n    <tr>\n      <th>308</th>\n      <td>daru</td>\n      <td>-9.08</td>\n      <td>143.21</td>\n      <td>80.87</td>\n      <td>74.0</td>\n      <td>100.0</td>\n      <td>12.53</td>\n    </tr>\n    <tr>\n      <th>315</th>\n      <td>eyl</td>\n      <td>7.98</td>\n      <td>49.82</td>\n      <td>78.42</td>\n      <td>70.0</td>\n      <td>64.0</td>\n      <td>21.32</td>\n    </tr>\n    <tr>\n      <th>331</th>\n      <td>lagoa</td>\n      <td>39.05</td>\n      <td>-27.98</td>\n      <td>65.84</td>\n      <td>70.0</td>\n      <td>100.0</td>\n      <td>14.36</td>\n    </tr>\n    <tr>\n      <th>332</th>\n      <td>bathsheba</td>\n      <td>13.22</td>\n      <td>-59.52</td>\n      <td>84.20</td>\n      <td>74.0</td>\n      <td>20.0</td>\n      <td>11.41</td>\n    </tr>\n    <tr>\n      <th>334</th>\n      <td>faanui</td>\n      <td>-16.48</td>\n      <td>-151.75</td>\n      <td>79.11</td>\n      <td>78.0</td>\n      <td>0.0</td>\n      <td>13.04</td>\n    </tr>\n    <tr>\n      <th>352</th>\n      <td>wanlaweyn</td>\n      <td>2.62</td>\n      <td>44.89</td>\n      <td>77.38</td>\n      <td>69.0</td>\n      <td>79.0</td>\n      <td>15.90</td>\n    </tr>\n    <tr>\n      <th>357</th>\n      <td>niceville</td>\n      <td>30.52</td>\n      <td>-86.48</td>\n      <td>79.00</td>\n      <td>78.0</td>\n      <td>75.0</td>\n      <td>11.41</td>\n    </tr>\n    <tr>\n      <th>362</th>\n      <td>carnarvon</td>\n      <td>-24.87</td>\n      <td>113.63</td>\n      <td>75.20</td>\n      <td>69.0</td>\n      <td>75.0</td>\n      <td>13.87</td>\n    </tr>\n    <tr>\n      <th>368</th>\n      <td>basco</td>\n      <td>20.45</td>\n      <td>121.97</td>\n      <td>83.48</td>\n      <td>79.0</td>\n      <td>20.0</td>\n      <td>14.90</td>\n    </tr>\n    <tr>\n      <th>374</th>\n      <td>saint-georges</td>\n      <td>12.06</td>\n      <td>-61.75</td>\n      <td>86.00</td>\n      <td>79.0</td>\n      <td>20.0</td>\n      <td>14.99</td>\n    </tr>\n    <tr>\n      <th>405</th>\n      <td>jati</td>\n      <td>24.35</td>\n      <td>68.27</td>\n      <td>84.38</td>\n      <td>71.0</td>\n      <td>0.0</td>\n      <td>13.89</td>\n    </tr>\n    <tr>\n      <th>411</th>\n      <td>laredo</td>\n      <td>27.51</td>\n      <td>-99.51</td>\n      <td>80.60</td>\n      <td>65.0</td>\n      <td>1.0</td>\n      <td>11.41</td>\n    </tr>\n    <tr>\n      <th>416</th>\n      <td>kismayo</td>\n      <td>-0.36</td>\n      <td>42.55</td>\n      <td>77.85</td>\n      <td>76.0</td>\n      <td>57.0</td>\n      <td>13.51</td>\n    </tr>\n    <tr>\n      <th>425</th>\n      <td>bambanglipuro</td>\n      <td>-7.95</td>\n      <td>110.28</td>\n      <td>82.83</td>\n      <td>71.0</td>\n      <td>88.0</td>\n      <td>11.99</td>\n    </tr>\n    <tr>\n      <th>448</th>\n      <td>kattivakkam</td>\n      <td>13.22</td>\n      <td>80.32</td>\n      <td>86.00</td>\n      <td>62.0</td>\n      <td>24.0</td>\n      <td>11.41</td>\n    </tr>\n    <tr>\n      <th>452</th>\n      <td>marabba</td>\n      <td>12.35</td>\n      <td>32.18</td>\n      <td>76.84</td>\n      <td>78.0</td>\n      <td>75.0</td>\n      <td>13.94</td>\n    </tr>\n    <tr>\n      <th>457</th>\n      <td>kavaratti</td>\n      <td>10.57</td>\n      <td>72.64</td>\n      <td>84.20</td>\n      <td>79.0</td>\n      <td>40.0</td>\n      <td>13.87</td>\n    </tr>\n    <tr>\n      <th>461</th>\n      <td>poum</td>\n      <td>-20.23</td>\n      <td>164.02</td>\n      <td>73.26</td>\n      <td>73.0</td>\n      <td>0.0</td>\n      <td>15.21</td>\n    </tr>\n    <tr>\n      <th>488</th>\n      <td>marsh harbour</td>\n      <td>26.54</td>\n      <td>-77.06</td>\n      <td>80.10</td>\n      <td>69.0</td>\n      <td>24.0</td>\n      <td>16.62</td>\n    </tr>\n    <tr>\n      <th>493</th>\n      <td>mandan</td>\n      <td>46.83</td>\n      <td>-100.89</td>\n      <td>62.60</td>\n      <td>72.0</td>\n      <td>90.0</td>\n      <td>11.41</td>\n    </tr>\n    <tr>\n      <th>545</th>\n      <td>fare</td>\n      <td>-16.70</td>\n      <td>-151.02</td>\n      <td>79.48</td>\n      <td>78.0</td>\n      <td>0.0</td>\n      <td>13.62</td>\n    </tr>\n    <tr>\n      <th>549</th>\n      <td>islamkot</td>\n      <td>24.70</td>\n      <td>70.18</td>\n      <td>84.06</td>\n      <td>69.0</td>\n      <td>45.0</td>\n      <td>13.89</td>\n    </tr>\n    <tr>\n      <th>550</th>\n      <td>bandarbeyla</td>\n      <td>9.49</td>\n      <td>50.81</td>\n      <td>79.03</td>\n      <td>70.0</td>\n      <td>8.0</td>\n      <td>20.78</td>\n    </tr>\n    <tr>\n      <th>559</th>\n      <td>qinzhou</td>\n      <td>21.95</td>\n      <td>108.62</td>\n      <td>79.48</td>\n      <td>74.0</td>\n      <td>65.0</td>\n      <td>12.15</td>\n    </tr>\n  </tbody>\n</table>\n</div>"
     },
     "metadata": {},
     "execution_count": 7
    }
   ],
   "source": [
    "temp_df = vacation_df[(vacation_df['Max Temp'] < 90)  & (vacation_df['Max Temp'] > 60)]\n",
    "temp_df = temp_df[(temp_df['Humidity'] < 80)  & (temp_df['Humidity'] > 60)]\n",
    "temp_df = temp_df[(temp_df['Wind Speed'] < 40)  & (temp_df['Wind Speed'] > 10)]\n",
    "temp_df = temp_df.dropna()\n",
    "temp_df"
   ]
  },
  {
   "cell_type": "markdown",
   "metadata": {},
   "source": [
    "### Hotel Map\n",
    "* Store into variable named `hotel_df`.\n",
    "* Add a \"Hotel Name\" column to the DataFrame.\n",
    "* Set parameters to search for hotels with 5000 meters.\n",
    "* Hit the Google Places API for each city's coordinates.\n",
    "* Store the first Hotel result into the DataFrame.\n",
    "* Plot markers on top of the heatmap."
   ]
  },
  {
   "cell_type": "code",
   "execution_count": null,
   "metadata": {},
   "outputs": [],
   "source": []
  },
  {
   "cell_type": "code",
   "execution_count": null,
   "metadata": {},
   "outputs": [],
   "source": []
  },
  {
   "cell_type": "code",
   "execution_count": null,
   "metadata": {},
   "outputs": [],
   "source": [
    "# NOTE: Do not change any of the code in this cell\n",
    "\n",
    "# Using the template add the hotel marks to the heatmap\n",
    "info_box_template = \"\"\"\n",
    "<dl>\n",
    "<dt>Name</dt><dd>{Hotel Name}</dd>\n",
    "<dt>City</dt><dd>{City}</dd>\n",
    "<dt>Country</dt><dd>{Country}</dd>\n",
    "</dl>\n",
    "\"\"\"\n",
    "# Store the DataFrame Row\n",
    "# NOTE: be sure to update with your DataFrame name\n",
    "hotel_info = [info_box_template.format(**row) for index, row in hotel_df.iterrows()]\n",
    "locations = hotel_df[[\"Lat\", \"Lng\"]]"
   ]
  },
  {
   "cell_type": "code",
   "execution_count": null,
   "metadata": {},
   "outputs": [],
   "source": [
    "# Add marker layer ontop of heat map\n",
    "\n",
    "\n",
    "# Display figure\n"
   ]
  },
  {
   "cell_type": "code",
   "execution_count": null,
   "metadata": {},
   "outputs": [],
   "source": []
  }
 ],
 "metadata": {
  "kernelspec": {
   "name": "Python 3.7.6 64-bit ('base': conda)",
   "display_name": "Python 3.7.6 64-bit ('base': conda)",
   "metadata": {
    "interpreter": {
     "hash": "dca0ade3e726a953b501b15e8e990130d2b7799f14cfd9f4271676035ebe5511"
    }
   }
  },
  "language_info": {
   "codemirror_mode": {
    "name": "ipython",
    "version": 3
   },
   "file_extension": ".py",
   "mimetype": "text/x-python",
   "name": "python",
   "nbconvert_exporter": "python",
   "pygments_lexer": "ipython3",
   "version": "3.7.6-final"
  },
  "latex_envs": {
   "LaTeX_envs_menu_present": true,
   "autoclose": false,
   "autocomplete": true,
   "bibliofile": "biblio.bib",
   "cite_by": "apalike",
   "current_citInitial": 1,
   "eqLabelWithNumbers": true,
   "eqNumInitial": 1,
   "hotkeys": {
    "equation": "Ctrl-E",
    "itemize": "Ctrl-I"
   },
   "labels_anchors": false,
   "latex_user_defs": false,
   "report_style_numbering": false,
   "user_envs_cfg": false
  }
 },
 "nbformat": 4,
 "nbformat_minor": 2
}